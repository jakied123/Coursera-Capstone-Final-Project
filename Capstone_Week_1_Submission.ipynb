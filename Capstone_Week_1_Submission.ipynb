{
 "cells": [
  {
   "cell_type": "markdown",
   "metadata": {},
   "source": [
    "# Coursera IBM Data Science Capstone Project\n"
   ]
  },
  {
   "cell_type": "markdown",
   "metadata": {},
   "source": [
    "## Introduction\n",
    "\n",
    "Understanding of the behavior of real-estate within a metropolitan area is of interest to many stakeholders, i.e. individuals looking for housing, real-estate brokers/realtors, businesses looking to relocate to a particular area, investment companies, mortgage lenders/banks, etc… Many companies, such a Zillow, have made a name for themselves in aggregating and predicting housing costs using machine learning techniques. This problem lends its self very naturally to machine learning techniques due to the high number of predictors and high volume of data. \n",
    "\n",
    "Chicago, IL is the third most populous city in the United States, and the most populous city in the American Midwest. The city is an international hub for finance, industry, education, technology etc… Moreover, it is well known for its diverse cultural scene and various entertainment, dining, and tourist attractions. Naturally, it is beneficial for the stakeholders mention previously to have a clear understanding of the real-estate market in such a large metropolitan area.\n",
    "\n",
    "As we observed in the segmentation and clustering of neighborhoods in Toronto, neighborhoods in different geographic locations may cluster together in the venue and amenities that they offer. Regarding real-estate valuation, a natural question to answer is if the clusters of neighborhood venues are correlated to real-estate prices. For example if we have a group of neighborhoods that clusters around a high number of coffee shops and another neighborhood that clusters around a high number of up-scale boutiques, do we expect to see the mean housing price differ between these clusters, or will we see different variability in housing prices in these different clusters? Assessing both the differences in mean prices and differences of price variation within clusters will provide important information about housing costs in these areas. If these clusters are treated as random blocks, then we can partition the unexplained variability as a result of within group variation and reduce the amount of residual variability in the final model, yielding prediction/inference characterizing reality better.  We shall consider all of Cook County, IL to perform this analysis, as it includes the city of Chicago, and some of the surrounding suburban areas.\n"
   ]
  },
  {
   "cell_type": "markdown",
   "metadata": {},
   "source": [
    "## Data\n",
    "\n",
    "Several source of data will need to be aggregated in order to answer the questions outlined above, namely we will require: neighborhood information, geographic (coordinate) information, venue information, and real-estate information.\n",
    "\n",
    "*\tNeighborhood/community information, for the city of Chicago will be obtained from Wikipedia: https://en.wikipedia.org/wiki/Community_areas_in_Chicago and community/town information for areas outside of the city of Chicago will be obtained from: http://ciclt.net/sn/clt/capitolimpact/gw_ziplist.aspx?ClientCode=capitolimpact&State=il&StName=Illinois&StFIPS=17&FIPS=17031. (Note that within the city neighborhoods are nested in community areas. Community areas will be considered for areas in the City, and towns/villages will be considered for the suburban areas.) \n",
    "\n",
    "*\tGeographic coordinate information will be obtained from the geopy.geocoders package.\n",
    "\n",
    "*\tVenue information will be obtained using the Foursquare API.\n",
    "\n",
    "*\tReal-estate information will be obtained from https://www.realtor.com/research/data which provides aggregated housing information at the zip code level for the entire US. In the future the Zillow API could be integrated to obtain this information at the individual house level, but for the sake of time and simplicity, the aggregated information will be used as a means of exploratory analysis in order to see if there is a significant effect due to blocking. The relator.com data set also provides aggregated zip code level information each month for the past four years, which may enable a longitudinal analysis of housing prices for Cook County. \n",
    "\t \n"
   ]
  },
  {
   "cell_type": "markdown",
   "metadata": {},
   "source": [
    "See the `Final-Notebook-Draft` for a preliminary draft of the final analysis. In this the data has been collected and complied, the neighborhoods have been clustered, and some of the preliminary analysis to answer the objective question has been performed. This NOT a final version of the notebook by any means..."
   ]
  },
  {
   "cell_type": "code",
   "execution_count": null,
   "metadata": {},
   "outputs": [],
   "source": []
  }
 ],
 "metadata": {
  "kernelspec": {
   "display_name": "Python 3",
   "language": "python",
   "name": "python3"
  },
  "language_info": {
   "codemirror_mode": {
    "name": "ipython",
    "version": 3
   },
   "file_extension": ".py",
   "mimetype": "text/x-python",
   "name": "python",
   "nbconvert_exporter": "python",
   "pygments_lexer": "ipython3",
   "version": "3.7.3"
  }
 },
 "nbformat": 4,
 "nbformat_minor": 2
}
